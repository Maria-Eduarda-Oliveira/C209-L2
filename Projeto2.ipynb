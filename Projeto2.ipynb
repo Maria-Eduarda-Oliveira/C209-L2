{
 "cells": [
  {
   "cell_type": "code",
   "execution_count": null,
   "metadata": {},
   "outputs": [],
   "source": [
    "# bibliotecas\n",
    "import moviepy.editor as mpe\n",
    "import moviepy.video.fx.all as vfx\n",
    "from moviepy.audio.fx.all import audio_fadeout"
   ]
  },
  {
   "cell_type": "code",
   "execution_count": null,
   "metadata": {},
   "outputs": [],
   "source": [
    "video = mpe.VideoFileClip(\"video.mp4\") # abre o vídeo\n",
    "video.ipython_display(width=480, maxduration=180) # mostra o vídeo"
   ]
  },
  {
   "cell_type": "code",
   "execution_count": null,
   "metadata": {},
   "outputs": [],
   "source": [
    "tempo = 20  # tempo para inverter a imagem\n",
    "\n",
    "partes = []  # lista para os subclipes\n",
    "for inicio in range(0, int(video.duration), tempo): # divide o video e inverte a imagem das partes\n",
    "    fim = min(inicio + tempo, video.duration) # roda até o final do vídeo\n",
    "    subclip = video.subclip(inicio, fim)\n",
    "    if inicio // tempo % 2 == 1: # intervalo ímpar, inverte a imagem\n",
    "        subclip = vfx.mirror_x(subclip)\n",
    "    partes.append(subclip)\n",
    "\n",
    "video1 = mpe.concatenate_videoclips(partes) # junta os subclipes \n",
    "video1.ipython_display(width=480, maxduration=180)"
   ]
  },
  {
   "cell_type": "code",
   "execution_count": null,
   "metadata": {},
   "outputs": [],
   "source": [
    "fadeout = video1.duration - 10 # tempo para diminuir o som\n",
    "video2 = video1.set_audio(video1.audio.fx(audio_fadeout, fadeout)) # aplica o fadeout\n",
    "video2.ipython_display(width=480, maxduration=180)"
   ]
  },
  {
   "cell_type": "code",
   "execution_count": null,
   "metadata": {},
   "outputs": [],
   "source": [
    "corte_inicio = 60  # segundos\n",
    "corte_fim = 80  # segundos\n",
    "\n",
    "pre_corte = video2.subclip(0, corte_inicio)  # Primeira parte do vídeo antes do corte\n",
    "corte = video2.subclip(corte_inicio, corte_fim)  # Parte cortada de 60 a 80 segundos\n",
    "pos_corte = video2.subclip(corte_fim)  # Parte restante do vídeo após o corte"
   ]
  },
  {
   "cell_type": "code",
   "execution_count": null,
   "metadata": {},
   "outputs": [],
   "source": [
    "resultado = mpe.concatenate_videoclips([pre_corte, pos_corte, corte])\n",
    "resultado.write_videofile(\"resultado.mp4\")\n",
    "resultado.ipython_display(width=480, maxduration=180)"
   ]
  }
 ],
 "metadata": {
  "kernelspec": {
   "display_name": "Python 3",
   "language": "python",
   "name": "python3"
  },
  "language_info": {
   "codemirror_mode": {
    "name": "ipython",
    "version": 3
   },
   "file_extension": ".py",
   "mimetype": "text/x-python",
   "name": "python",
   "nbconvert_exporter": "python",
   "pygments_lexer": "ipython3",
   "version": "3.13.0"
  }
 },
 "nbformat": 4,
 "nbformat_minor": 2
}
